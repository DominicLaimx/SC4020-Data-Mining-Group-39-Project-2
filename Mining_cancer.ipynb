{
 "cells": [
  {
   "cell_type": "code",
   "execution_count": 5,
   "id": "76dff590",
   "metadata": {},
   "outputs": [],
   "source": [
    "import pandas as pd\n",
    "\n",
    "df = pd.read_csv(r\"C:\\Users\\ASUS\\Downloads\\SC4020 Data Mining Group 39 Assignment 2\\Cancer_Data.csv\")\n",
    "df.drop(columns=[\"Unnamed: 32\"],inplace=True)\n",
    "# print(df.describe())\n",
    "# print(df.head(5))\n",
    "y = df[[\"id\",\"diagnosis\"]]\n",
    "x = df.drop(columns=[\"id\",\"diagnosis\"])"
   ]
  },
  {
   "cell_type": "code",
   "execution_count": 8,
   "id": "65ac2044",
   "metadata": {},
   "outputs": [],
   "source": [
    "import numpy as np\n",
    "\n",
    "def calculate_zscore(column):\n",
    "\n",
    "    col_mean = column.mean()\n",
    "    col_std = column.std(ddof=1)\n",
    "\n",
    "    if col_std == 0:\n",
    "        return np.zeros_like(column)\n",
    "    \n",
    "    return (column - col_mean) / col_std\n",
    "# print(x.head(1))\n",
    "x_z = x.apply(calculate_zscore)\n",
    "# print(x_z.head(1))"
   ]
  },
  {
   "cell_type": "code",
   "execution_count": null,
   "id": "71f491b6",
   "metadata": {},
   "outputs": [
    {
     "name": "stdout",
     "output_type": "stream",
     "text": [
      "[(['compactness_mean'], 3.280628064124688), (['perimeter_se'], 2.8305402887883893), (['symmetry_worst'], 2.7482041142121525), (['concavity_mean'], 2.650541786383574), (['compactness_worst'], 2.6143646582121116), (['concave points_mean'], 2.5302488641342964), (['radius_se'], 2.487545149236084), (['area_se'], 2.4853906751696258), (['perimeter_worst'], 2.301575479825721), (['concave points_worst'], 2.2940575987078207)]\n",
      "[(['area_mean'], 1.9070302686337917), (['area_worst'], 1.8888270198661707), (['radius_mean'], 1.8282119737343632), (['radius_worst'], 1.8043398096551988), (['perimeter_mean'], 1.6844725522771011), (['perimeter_worst'], 1.533776430770619), (['concave points_worst'], 1.0861286164840487), (['area_se'], 0.7417492871622335), (['concave points_mean'], 0.5476622708254761), (['radius_se'], 0.49881569544776655)]\n",
      "[(['concave points_mean'], 2.0354397832616935), (['concave points_worst'], 1.9532816641761768), (['radius_mean'], 1.5784992020342357), (['perimeter_mean'], 1.5651259839837746), (['area_mean'], 1.5575131853441087), (['radius_worst'], 1.5105411289233923), (['area_worst'], 1.4550042984805682), (['concave points_se'], 1.423574870468738), (['concavity_mean'], 1.3622797889632123), (['perimeter_worst'], 1.3462906164664659)]\n"
     ]
    }
   ],
   "source": [
    "def get_top_k_ranked_features(row, k=10):\n",
    "\n",
    "    sorted_features = row.sort_values(ascending=False)\n",
    "\n",
    "    top_k = sorted_features.head(k)\n",
    "\n",
    "    itemsets = []\n",
    "    current_set = []\n",
    "    last_val = None\n",
    "\n",
    "    for feature, value in top_k.items():\n",
    "        # if curval is close to previous value, add to the same current_set\n",
    "        # otherwise, add current_set to list of itemsets and create new current_set with curval\n",
    "        if last_val is not None and abs(value - last_val) > 1e-6:\n",
    "            itemsets.append((sorted(current_set),last_val))\n",
    "            current_set = []\n",
    "        current_set.append(feature)\n",
    "        last_val = value\n",
    "    # end of list, append current_set\n",
    "    if current_set:\n",
    "        itemsets.append((sorted(current_set),last_val))\n",
    "    return itemsets\n",
    "\n",
    "x_z_sorted = x_z.apply(lambda row: get_top_k_ranked_features(row, k=10), axis=1)\n",
    "\n",
    "for i in x_z_sorted.head(3):\n",
    "    print(i)"
   ]
  },
  {
   "cell_type": "code",
   "execution_count": null,
   "id": "c97fa7cd",
   "metadata": {},
   "outputs": [],
   "source": []
  }
 ],
 "metadata": {
  "kernelspec": {
   "display_name": "nlp",
   "language": "python",
   "name": "python3"
  },
  "language_info": {
   "codemirror_mode": {
    "name": "ipython",
    "version": 3
   },
   "file_extension": ".py",
   "mimetype": "text/x-python",
   "name": "python",
   "nbconvert_exporter": "python",
   "pygments_lexer": "ipython3",
   "version": "3.11.13"
  }
 },
 "nbformat": 4,
 "nbformat_minor": 5
}
